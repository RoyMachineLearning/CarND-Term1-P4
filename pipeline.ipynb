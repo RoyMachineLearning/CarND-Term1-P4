{
 "cells": [
  {
   "cell_type": "markdown",
   "metadata": {
    "collapsed": true,
    "deletable": true,
    "editable": true
   },
   "source": [
    "## Pipeline Steps\n",
    "\n",
    "#### Pre-Step: Calibrate the camera to get the camera matrix and distortion coefficients\n",
    " \n",
    "#### Pipeline\n",
    " 1. Undistort the image\n",
    " 2. Threshold the image using gradients and colors\n",
    " 3. Apply a Perspective Transform to view the image from top-down\n",
    " 4. Identify the lane lines\n",
    " 5. Un-transform back to orginal perspective\n",
    " 6. Draw lane information on original image"
   ]
  },
  {
   "cell_type": "markdown",
   "metadata": {},
   "source": [
    "### Pre-Step: Calibrate the Camera"
   ]
  },
  {
   "cell_type": "code",
   "execution_count": 53,
   "metadata": {
    "collapsed": false
   },
   "outputs": [],
   "source": [
    "import cv2\n",
    "import numpy as np\n",
    "import glob\n",
    "import matplotlib.pyplot as plt\n",
    "import matplotlib.image as mpimg\n",
    "%matplotlib inline\n",
    "\n",
    "im_paths = glob.glob('./camera_cal_images/calibration*.jpg')"
   ]
  },
  {
   "cell_type": "code",
   "execution_count": 57,
   "metadata": {
    "collapsed": false
   },
   "outputs": [
    {
     "name": "stdout",
     "output_type": "stream",
     "text": [
      "./camera_cal_images/calibration10.jpg (720, 1280, 3)\n",
      "./camera_cal_images/calibration11.jpg (720, 1280, 3)\n",
      "./camera_cal_images/calibration12.jpg (720, 1280, 3)\n",
      "./camera_cal_images/calibration13.jpg (720, 1280, 3)\n",
      "./camera_cal_images/calibration14.jpg (720, 1280, 3)\n",
      "./camera_cal_images/calibration15.jpg (720, 1280, 3)\n",
      "./camera_cal_images/calibration16.jpg (720, 1280, 3)\n",
      "./camera_cal_images/calibration17.jpg (720, 1280, 3)\n",
      "./camera_cal_images/calibration18.jpg (720, 1280, 3)\n",
      "./camera_cal_images/calibration19.jpg (720, 1280, 3)\n",
      "./camera_cal_images/calibration2.jpg (720, 1280, 3)\n",
      "./camera_cal_images/calibration20.jpg (720, 1280, 3)\n",
      "./camera_cal_images/calibration3.jpg (720, 1280, 3)\n",
      "./camera_cal_images/calibration6.jpg (720, 1280, 3)\n",
      "./camera_cal_images/calibration7.jpg (720, 1280, 3)\n",
      "./camera_cal_images/calibration8.jpg (720, 1280, 3)\n",
      "./camera_cal_images/calibration9.jpg (720, 1280, 3)\n"
     ]
    }
   ],
   "source": [
    "cb_shape = (9, 6)  # Corners we expect to be detected on the chessboard\n",
    "\n",
    "obj_points = []  # 3D points in real-world space\n",
    "img_points = []  # 2D points in the image\n",
    "\n",
    "for im_path in im_paths:\n",
    "    img = mpimg.imread(im_path)\n",
    "    print(im_path, img.shape)\n",
    "    \n",
    "    obj_p = np.zeros((cb_shape[0]*cb_shape[1], 3), np.float32)\n",
    "    coords = np.mgrid[0:cb_shape[0], 0:cb_shape[1]].T.reshape(-1, 2)  # x, y coords\n",
    "\n",
    "    obj_p[:,:2] = coords\n",
    "    obj_points.append(obj_p)\n",
    "\n",
    "    gray = cv2.cvtColor(img, cv2.COLOR_RGB2GRAY)\n",
    "    found_all, corners = cv2.findChessboardCorners(gray, cb_shape, None)\n",
    "    if found_all:\n",
    "        img_points.append(corners)\n",
    "        img = cv2.drawChessboardCorners(img, cb_shape, corners, found_all)\n",
    "    else:\n",
    "        print(\"Couldn't find all corners in image:\", im_path)"
   ]
  },
  {
   "cell_type": "code",
   "execution_count": null,
   "metadata": {
    "collapsed": true
   },
   "outputs": [],
   "source": []
  }
 ],
 "metadata": {
  "kernelspec": {
   "display_name": "Python 3",
   "language": "python",
   "name": "python3"
  },
  "language_info": {
   "codemirror_mode": {
    "name": "ipython",
    "version": 3
   },
   "file_extension": ".py",
   "mimetype": "text/x-python",
   "name": "python",
   "nbconvert_exporter": "python",
   "pygments_lexer": "ipython3",
   "version": "3.5.2"
  },
  "widgets": {
   "state": {},
   "version": "1.1.2"
  }
 },
 "nbformat": 4,
 "nbformat_minor": 0
}
